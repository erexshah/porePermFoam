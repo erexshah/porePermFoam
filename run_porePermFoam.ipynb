{
 "cells": [
  {
   "cell_type": "code",
   "execution_count": 1,
   "id": "3d9c2da5",
   "metadata": {},
   "outputs": [],
   "source": [
    "import simpleFoam_tools as sft\n",
    "import pandas as pd\n",
    "import numpy as np"
   ]
  },
  {
   "cell_type": "code",
   "execution_count": 2,
   "id": "55e751e9",
   "metadata": {},
   "outputs": [],
   "source": [
    "remove = 1\n",
    "if remove:\n",
    "    sft.remove_run_files(\".\")"
   ]
  },
  {
   "cell_type": "code",
   "execution_count": null,
   "id": "eafd44b4",
   "metadata": {},
   "outputs": [],
   "source": [
    "domain_name = \"vti_bent_x\"\n",
    "vti_path = f\"constant/geometry/{domain_name}.vti\"\n",
    "stl_path = f\"constant/triSurface/{domain_name}.stl\"\n",
    "shape = (100, 100, 100)\n",
    "scale=3.0035e-6\n",
    "dp = 1e-3\n",
    "stl = f\"{domain_name}.stl\"\n",
    "refinement = 0\n",
    "factor_mesh = 1\n",
    "location_in_mesh = (50, 70, 20)\n",
    "boundary_type = \"symmetryPlane\" # \"Wall\" or \"symmetryPlane\"\n",
    "dt = 1e-6\n",
    "end_time = 500\n",
    "write_interval = 100"
   ]
  },
  {
   "cell_type": "code",
   "execution_count": 4,
   "id": "1ad59f25",
   "metadata": {},
   "outputs": [
    {
     "name": "stdout",
     "output_type": "stream",
     "text": [
      "Running command: pvpython /home/h09435ap/porePermFoam/simpleFoam_tools/paraview_stl.py /home/h09435ap/porePermFoam/constant/geometry/vti_bent_x.vti /home/h09435ap/porePermFoam/constant/triSurface/vti_bent_x.stl\n",
      "hwloc/linux: Ignoring PCI device with non-16bit domain.\n",
      "Pass --enable-32bits-pci-domain to configure to support such devices\n",
      "(warning: it would break the library ABI, don't enable unless really needed).\n",
      "✅ Wrote ASCII STL: /home/h09435ap/porePermFoam/constant/triSurface/vti_bent_x.stl\n"
     ]
    }
   ],
   "source": [
    "sft.vti_to_stl(vti_path, stl_path)"
   ]
  },
  {
   "cell_type": "code",
   "execution_count": 5,
   "id": "a1d08ed3",
   "metadata": {},
   "outputs": [
    {
     "name": "stdout",
     "output_type": "stream",
     "text": [
      "Generated blockMeshDict at: system/blockMeshDict\n",
      "Generated snappyHexMeshDict at: system/snappyHexMeshDict\n",
      "Generated controlDict at: system/controlDict\n",
      "Generated p at: 0/p with boundary symmetryPlane\n",
      "Generated U at: 0/U with boundary symmetryPlane\n"
     ]
    }
   ],
   "source": [
    "mesh_resolution = tuple(x * factor_mesh for x in shape)\n",
    "blockMeshDict_path    = \"system/blockMeshDict\"\n",
    "controlDict_path      = \"system/controlDict\"\n",
    "p_field_path          = \"0/p\"\n",
    "U_field_path          = \"0/U\"\n",
    "snappyHexMeshDict_path = \"system/snappyHexMeshDict\"\n",
    "sft.generate_blockMeshDict(shape, mesh_resolution, blockMeshDict_path, boundary=boundary_type)\n",
    "sft.generate_snappyHexMeshDict(location_in_mesh, stl, snappyHexMeshDict_path, refinement=refinement)\n",
    "sft.generate_controlDict(controlDict_path, end_time=end_time, write_interval=write_interval, dt=dt)\n",
    "sft.generate_pressure_field(p_field_path, dp=dp, boundary=boundary_type)\n",
    "sft.generate_velocity_field(U_field_path, boundary=boundary_type)"
   ]
  },
  {
   "cell_type": "code",
   "execution_count": null,
   "id": "6ec7b0f5",
   "metadata": {},
   "outputs": [
    {
     "name": "stdout",
     "output_type": "stream",
     "text": [
      "\n",
      ">>> blockMesh\n",
      "\n",
      "/*---------------------------------------------------------------------------*\\\n",
      "| =========                 |                                                 |\n",
      "| \\\\      /  F ield         | OpenFOAM: The Open Source CFD Toolbox           |\n",
      "|  \\\\    /   O peration     | Version:  2412                                  |\n",
      "|   \\\\  /    A nd           | Website:  www.openfoam.com                      |\n",
      "|    \\\\/     M anipulation  |                                                 |\n",
      "\\*---------------------------------------------------------------------------*/\n",
      "Build  : _f00230df-20250528 OPENFOAM=2412 patch=250528 version=2412\n",
      "Arch   : \"LSB;label=32;scalar=64\"\n",
      "Exec   : blockMesh\n",
      "Date   : Aug 08 2025\n",
      "Time   : 03:09:28\n",
      "Host   : e-10aux32876g5\n",
      "PID    : 2083587\n",
      "I/O    : uncollated\n",
      "Case   : /home/h09435ap/porePermFoam\n",
      "nProcs : 1\n",
      "trapFpe: Floating point exception trapping enabled (FOAM_SIGFPE).\n",
      "fileModificationChecking : Monitoring run-time modified files using timeStampMaster (fileModificationSkew 5, maxFileModificationPolls 20)\n",
      "allowSystemOperations : Allowing user-supplied system call operations\n",
      "\n",
      "// * * * * * * * * * * * * * * * * * * * * * * * * * * * * * * * * * * * * * //\n",
      "Create time\n",
      "\n",
      "--> FOAM Warning : \n",
      "    From static Foam::IOstreamOption::compressionType Foam::IOstreamOption::compressionEnum(const Foam::word&, Foam::IOstreamOption::compressionType)\n",
      "    in file db/options/IOstreamOption.C at line 189\n",
      "    Unknown compression specifier 'uncompressed' using compression off\n",
      "Creating block mesh from \"system/blockMeshDict\"\n",
      "--> FOAM IOWarning :\n",
      "    Found [v1012] 'convertToMeters' entry instead of 'scale' in dictionary \"system/blockMeshDict\"\n",
      "\n",
      "    This keyword is 168 months old.\n",
      "\n",
      "Creating block edges\n",
      "No non-planar block faces defined\n",
      "Creating topology blocks\n",
      "\n",
      "Creating topology patches - from boundary section\n",
      "\n",
      "Creating block mesh topology\n",
      "\n",
      "Check topology\n",
      "\n",
      "\tBasic statistics\n",
      "\t\tNumber of internal faces : 0\n",
      "\t\tNumber of boundary faces : 6\n",
      "\t\tNumber of defined boundary faces : 6\n",
      "\t\tNumber of undefined boundary faces : 0\n",
      "\tChecking patch -> block consistency\n",
      "\n",
      "Creating block offsets\n",
      "Creating merge list (topological search)...\n",
      "\n",
      "Creating polyMesh from blockMesh\n",
      "Creating patches\n",
      "Creating cells\n",
      "Creating points with scale (1 1 1)\n",
      "    Block 0 cell size :\n",
      "        i : 0.99 .. 0.99\n",
      "        j : 0.99 .. 0.99\n",
      "        k : 0.99 .. 0.99\n",
      "\n",
      "No patch pairs to merge\n",
      "\n",
      "Writing polyMesh with 0 cellZones\n",
      "----------------\n",
      "Mesh Information\n",
      "----------------\n",
      "  boundingBox: (0 0 0) (99 99 99)\n",
      "  nPoints: 1030301\n",
      "  nCells: 1000000\n",
      "  nFaces: 3030000\n",
      "  nInternalFaces: 2970000\n",
      "----------------\n",
      "Patches\n",
      "----------------\n",
      "  patch 0 (start: 2970000 size: 10000) name: top\n",
      "  patch 1 (start: 2980000 size: 10000) name: inlet\n",
      "  patch 2 (start: 2990000 size: 10000) name: bottom\n",
      "  patch 3 (start: 3000000 size: 10000) name: outlet\n",
      "  patch 4 (start: 3010000 size: 10000) name: front\n",
      "  patch 5 (start: 3020000 size: 10000) name: back\n",
      "\n",
      "End\n",
      "\n",
      "\n",
      ">>> snappyHexMesh -overwrite\n",
      "\n",
      "/*---------------------------------------------------------------------------*\\\n",
      "| =========                 |                                                 |\n",
      "| \\\\      /  F ield         | OpenFOAM: The Open Source CFD Toolbox           |\n",
      "|  \\\\    /   O peration     | Version:  2412                                  |\n",
      "|   \\\\  /    A nd           | Website:  www.openfoam.com                      |\n",
      "|    \\\\/     M anipulation  |                                                 |\n",
      "\\*---------------------------------------------------------------------------*/\n",
      "Build  : _f00230df-20250528 OPENFOAM=2412 patch=250528 version=2412\n",
      "Arch   : \"LSB;label=32;scalar=64\"\n",
      "Exec   : snappyHexMesh -overwrite\n",
      "Date   : Aug 08 2025\n",
      "Time   : 03:09:31\n",
      "Host   : e-10aux32876g5\n",
      "PID    : 2083599\n",
      "I/O    : uncollated\n",
      "Case   : /home/h09435ap/porePermFoam\n",
      "nProcs : 1\n",
      "trapFpe: Floating point exception trapping enabled (FOAM_SIGFPE).\n",
      "fileModificationChecking : Monitoring run-time modified files using timeStampMaster (fileModificationSkew 5, maxFileModificationPolls 20)\n",
      "allowSystemOperations : Allowing user-supplied system call operations\n",
      "\n",
      "// * * * * * * * * * * * * * * * * * * * * * * * * * * * * * * * * * * * * * //\n",
      "Create time\n",
      "\n",
      "--> FOAM Warning : \n",
      "    From static Foam::IOstreamOption::compressionType Foam::IOstreamOption::compressionEnum(const Foam::word&, Foam::IOstreamOption::compressionType)\n",
      "    in file db/options/IOstreamOption.C at line 189\n",
      "    Unknown compression specifier 'uncompressed' using compression off\n",
      "Create mesh for time = 0\n",
      "\n",
      "Read mesh in = 1.99 s\n",
      "\n",
      "Overall mesh bounding box  : (0 0 0) (99 99 99)\n",
      "Relative tolerance         : 1e-06\n",
      "Absolute matching distance : 0.000171473\n",
      "\n",
      "Reading refinement surfaces.\n",
      "Read refinement surfaces in = 0.09 s\n",
      "\n",
      "Reading refinement shells.\n",
      "Read refinement shells in = 0 s\n",
      "\n",
      "Setting refinement level of surface to be consistent with shells.\n",
      "For geometry vti_bent_x.stl detected 0 uncached triangles out of 220520\n",
      "Checked shell refinement in = 0.28 s\n",
      "\n",
      "Reading features.\n",
      "Read features in = 0 s\n",
      "\n",
      "\n",
      "Determining initial surface intersections\n",
      "-----------------------------------------\n",
      "\n"
     ]
    }
   ],
   "source": [
    "sft.run_simplefoam(\".\", scale=scale)"
   ]
  },
  {
   "cell_type": "code",
   "execution_count": null,
   "id": "dada8774",
   "metadata": {},
   "outputs": [],
   "source": [
    "df_q = pd.read_csv(\"q_in.csv\")\n",
    "df_q.head()"
   ]
  },
  {
   "cell_type": "code",
   "execution_count": null,
   "id": "f1c23fbf",
   "metadata": {},
   "outputs": [],
   "source": [
    "phi = sft.phi_vti(vti_path)\n",
    "print(f\"porosity: {phi:.02%}\")\n",
    "A = shape[1] * shape[2] * scale**2\n",
    "miu = 1e-3\n",
    "L = shape[0] * scale\n",
    "Q = np.abs(df_q[\"flowRate_phi\"].iloc[-1])  \n",
    "dp = dp * 1e3 # convert to Pa\n",
    "k = Q * miu * L / (A * dp)\n",
    "print(f\"permeability: {k:.02e} m^2\")\n",
    "print(f\"permeability: {k * 1.01324997e15:.02f} md\")"
   ]
  }
 ],
 "metadata": {
  "kernelspec": {
   "display_name": "co2env",
   "language": "python",
   "name": "python3"
  },
  "language_info": {
   "codemirror_mode": {
    "name": "ipython",
    "version": 3
   },
   "file_extension": ".py",
   "mimetype": "text/x-python",
   "name": "python",
   "nbconvert_exporter": "python",
   "pygments_lexer": "ipython3",
   "version": "3.13.5"
  }
 },
 "nbformat": 4,
 "nbformat_minor": 5
}
