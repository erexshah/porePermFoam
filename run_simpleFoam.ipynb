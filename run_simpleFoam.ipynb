{
 "cells": [
  {
   "cell_type": "code",
   "execution_count": null,
   "id": "3d9c2da5",
   "metadata": {},
   "outputs": [],
   "source": [
    "import simpleFoam_tools as sft\n",
    "import kphi\n",
    "import pandas as pd\n",
    "import numpy as np"
   ]
  },
  {
   "cell_type": "code",
   "execution_count": null,
   "id": "55e751e9",
   "metadata": {},
   "outputs": [],
   "source": [
    "remove = 1\n",
    "if remove:\n",
    "    sft.remove_run_files(\".\")"
   ]
  },
  {
   "cell_type": "code",
   "execution_count": null,
   "id": "c08047bd",
   "metadata": {},
   "outputs": [],
   "source": [
    "domain_name = \"cylinder\"\n",
    "vti_path = f\"constant/geometry/{domain_name}.vti\"\n",
    "stl_path = f\"constant/triSurface/{domain_name}.stl\""
   ]
  },
  {
   "cell_type": "code",
   "execution_count": null,
   "id": "812afce5",
   "metadata": {},
   "outputs": [],
   "source": [
    "radii = 10\n",
    "shape = (100, 50, 50)"
   ]
  },
  {
   "cell_type": "code",
   "execution_count": null,
   "id": "42206f93",
   "metadata": {},
   "outputs": [],
   "source": [
    "sft.make_cylinder_vti(radii, shape[::-1], vti_path)"
   ]
  },
  {
   "cell_type": "code",
   "execution_count": null,
   "id": "eafd44b4",
   "metadata": {},
   "outputs": [],
   "source": [
    "scale=1e-6\n",
    "dp = 1e-3\n",
    "stl = f\"{domain_name}.stl\"\n",
    "refinement = 1\n",
    "factor_mesh = 1\n",
    "location_in_mesh = (25, 25, 25)\n",
    "# location_in_mesh = (50, 70, 20)\n",
    "boundary_type = \"Wall\" # \"Wall\" or \"symmetryPlane\"\n",
    "end_time = 300\n",
    "write_interval = 50"
   ]
  },
  {
   "cell_type": "code",
   "execution_count": null,
   "id": "1ad59f25",
   "metadata": {},
   "outputs": [],
   "source": [
    "sft.make_stl(vti_path, stl_path)"
   ]
  },
  {
   "cell_type": "code",
   "execution_count": null,
   "id": "a1d08ed3",
   "metadata": {},
   "outputs": [],
   "source": [
    "mesh_resolution = tuple(x * factor_mesh for x in shape)\n",
    "blockMeshDict_path    = \"system/blockMeshDict\"\n",
    "controlDict_path      = \"system/controlDict\"\n",
    "p_field_path          = \"0/p\"\n",
    "U_field_path          = \"0/U\"\n",
    "snappyHexMeshDict_path = \"system/snappyHexMeshDict\"\n",
    "sft.generate_blockMeshDict(shape, mesh_resolution, blockMeshDict_path, boundary=boundary_type)\n",
    "sft.generate_snappyHexMeshDict(location_in_mesh, stl, snappyHexMeshDict_path, refinement=refinement)\n",
    "sft.generate_controlDict(controlDict_path, end_time=end_time, write_interval=write_interval)\n",
    "sft.generate_pressure_field(p_field_path, dp=dp, boundary=boundary_type)\n",
    "sft.generate_velocity_field(U_field_path, boundary=boundary_type)"
   ]
  },
  {
   "cell_type": "code",
   "execution_count": null,
   "id": "6ec7b0f5",
   "metadata": {},
   "outputs": [],
   "source": [
    "sft.run_simplefoam(\".\", scale=scale)"
   ]
  },
  {
   "cell_type": "code",
   "execution_count": null,
   "id": "dada8774",
   "metadata": {},
   "outputs": [],
   "source": [
    "df_q = pd.read_csv(\"q_in.csv\")\n",
    "df_q.head()"
   ]
  },
  {
   "cell_type": "code",
   "execution_count": null,
   "id": "aa842e80",
   "metadata": {},
   "outputs": [],
   "source": [
    "phi = kphi.phi_vti(vti_path)\n",
    "print(f\"porosity: {phi:.02%}\")"
   ]
  },
  {
   "cell_type": "code",
   "execution_count": null,
   "id": "f1c23fbf",
   "metadata": {},
   "outputs": [],
   "source": [
    "A = shape[1] * shape[2] * scale**2\n",
    "miu = 1e-3\n",
    "L = shape[0] * scale\n",
    "Q = np.abs(df_q[\"flowRate_phi\"].iloc[-1])  \n",
    "dp = dp * 1e3 # convert to Pa\n",
    "k = Q * miu * L / (A * dp)\n",
    "print(f\"permeability: {k:.02e} m^2\")\n",
    "print(f\"permeability: {k * 1.01324997e15:.02f} md\")"
   ]
  },
  {
   "cell_type": "code",
   "execution_count": null,
   "id": "ec319f26",
   "metadata": {},
   "outputs": [],
   "source": [
    "k_analytical = kphi.k_cylinder(radii*scale)\n",
    "A_tube = np.pi * (radii * scale)**2\n",
    "k_analytical = k_analytical * A_tube / A\n",
    "print(f\"analytical permeability: {k_analytical:.02e} m^2\")\n",
    "print(f\"analytical permeability: {k_analytical * 1.01324997e15:.02f} md\")\n",
    "print(f\"relative error: {(k - k_analytical) / k_analytical:.02%}\")"
   ]
  },
  {
   "cell_type": "code",
   "execution_count": null,
   "id": "5421885f",
   "metadata": {},
   "outputs": [],
   "source": [
    "A_mesh = df_q[\"area\"].iloc[-1]\n",
    "rel_error = np.abs(A_tube - A_mesh) / A_tube\n",
    "print(f\"mesh area: {A_mesh:.02e} m^2\")\n",
    "print(f\"analytical area: {A_tube:.02e} m^2\")\n",
    "print(f\"relative error in mesh area: {rel_error:.02%}\")"
   ]
  },
  {
   "cell_type": "code",
   "execution_count": null,
   "id": "1c9bb138",
   "metadata": {},
   "outputs": [],
   "source": []
  }
 ],
 "metadata": {
  "kernelspec": {
   "display_name": "co2env",
   "language": "python",
   "name": "python3"
  },
  "language_info": {
   "codemirror_mode": {
    "name": "ipython",
    "version": 3
   },
   "file_extension": ".py",
   "mimetype": "text/x-python",
   "name": "python",
   "nbconvert_exporter": "python",
   "pygments_lexer": "ipython3",
   "version": "3.13.5"
  }
 },
 "nbformat": 4,
 "nbformat_minor": 5
}
