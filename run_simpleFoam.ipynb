{
 "cells": [
  {
   "cell_type": "code",
   "execution_count": null,
   "id": "3d9c2da5",
   "metadata": {},
   "outputs": [],
   "source": [
    "import simpleFoam_tools as sft"
   ]
  },
  {
   "cell_type": "code",
   "execution_count": null,
   "id": "55e751e9",
   "metadata": {},
   "outputs": [],
   "source": [
    "remove = 1\n",
    "if remove:\n",
    "    sft.remove_run_files(\".\")"
   ]
  },
  {
   "cell_type": "code",
   "execution_count": null,
   "id": "c08047bd",
   "metadata": {},
   "outputs": [],
   "source": [
    "domain_name = \"cylinder\"\n",
    "vti_path = f\"constant/geometry/{domain_name}.vti\"\n",
    "stl_path = f\"constant/triSurface/{domain_name}.stl\""
   ]
  },
  {
   "cell_type": "code",
   "execution_count": null,
   "id": "812afce5",
   "metadata": {},
   "outputs": [],
   "source": [
    "radii = 10\n",
    "shape = (100, 50, 50)"
   ]
  },
  {
   "cell_type": "code",
   "execution_count": null,
   "id": "42206f93",
   "metadata": {},
   "outputs": [],
   "source": [
    "sft.make_cylinder_vti(radii, shape[::-1], vti_path)"
   ]
  },
  {
   "cell_type": "code",
   "execution_count": null,
   "id": "eafd44b4",
   "metadata": {},
   "outputs": [],
   "source": [
    "end_time = 300\n",
    "write_interval = 50\n",
    "stl = f\"{domain_name}.stl\"\n",
    "location_in_mesh = (25, 25, 25)\n",
    "# location_in_mesh = (50, 70, 20)\n",
    "boundary_type = \"symmetryPlane\"\n",
    "scale=1e-6"
   ]
  },
  {
   "cell_type": "code",
   "execution_count": null,
   "id": "1ad59f25",
   "metadata": {},
   "outputs": [],
   "source": [
    "sft.make_stl(vti_path, stl_path)"
   ]
  },
  {
   "cell_type": "code",
   "execution_count": null,
   "id": "a1d08ed3",
   "metadata": {},
   "outputs": [],
   "source": [
    "blockMeshDict_path    = \"system/blockMeshDict\"\n",
    "controlDict_path      = \"system/controlDict\"\n",
    "p_field_path          = \"0/p\"\n",
    "U_field_path          = \"0/U\"\n",
    "snappyHexMeshDict_path = \"system/snappyHexMeshDict\"\n",
    "sft.generate_blockMeshDict(shape, blockMeshDict_path, boundary=boundary_type)\n",
    "sft.generate_snappyHexMeshDict(location_in_mesh, stl, snappyHexMeshDict_path, refinement=0)\n",
    "sft.generate_controlDict(controlDict_path, end_time=end_time, write_interval=write_interval)\n",
    "sft.generate_pressure_field(p_field_path, boundary=boundary_type)\n",
    "sft.generate_velocity_field(U_field_path, boundary=boundary_type)"
   ]
  },
  {
   "cell_type": "code",
   "execution_count": null,
   "id": "6ec7b0f5",
   "metadata": {},
   "outputs": [],
   "source": [
    "sft.run_simplefoam(\".\", scale=scale)"
   ]
  }
 ],
 "metadata": {
  "kernelspec": {
   "display_name": "co2env",
   "language": "python",
   "name": "python3"
  },
  "language_info": {
   "codemirror_mode": {
    "name": "ipython",
    "version": 3
   },
   "file_extension": ".py",
   "mimetype": "text/x-python",
   "name": "python",
   "nbconvert_exporter": "python",
   "pygments_lexer": "ipython3",
   "version": "3.13.5"
  }
 },
 "nbformat": 4,
 "nbformat_minor": 5
}
